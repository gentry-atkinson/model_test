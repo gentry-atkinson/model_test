{
 "cells": [
  {
   "cell_type": "markdown",
   "metadata": {
    "id": "Khc4g511HMYk"
   },
   "source": [
    "#e4 wristband from data collection to classification to visualization\n",
    "e4_end_to_end.ipynb\n",
    "This notebook is specific to the e4 data set and was used to generate the figures and results presented in tbd paper.  This was forked from the load_dataset_demo.ipynb which is also in this repository and is likely to be updated more regularly since it supports multiple data sets.\n",
    "\n",
    "For this version the non-e4 support has been deleted and significant logging functions have been added.\n",
    "\n",
    "Author:  [Lee B. Hinkle](https://userweb.cs.txstate.edu/~lbh31/), [IMICS Lab](https://imics.wp.txstate.edu/), Texas State University, 2021\n",
    "\n",
    "<a rel=\"license\" href=\"http://creativecommons.org/licenses/by-sa/4.0/\"><img alt=\"Creative Commons License\" style=\"border-width:0\" src=\"https://i.creativecommons.org/l/by-sa/4.0/88x31.png\" /></a><br />This work is licensed under a <a rel=\"license\" href=\"http://creativecommons.org/licenses/by-sa/4.0/\">Creative Commons Attribution-ShareAlike 4.0 International License</a>.\n",
    "\n",
    "TODO:\n",
    "* \n",
    "\n"
   ]
  },
  {
   "cell_type": "code",
   "execution_count": 1,
   "metadata": {
    "executionInfo": {
     "elapsed": 101,
     "status": "ok",
     "timestamp": 1634227854637,
     "user": {
      "displayName": "Lee Hinkle",
      "photoUrl": "https://lh3.googleusercontent.com/a-/AOh14GgewSVTK-UUEEP0ihHQARBRqOb4YrK-IiepxHiI=s64",
      "userId": "00071704663307985880"
     },
     "user_tz": 300
    },
    "id": "1LkvTO5hujPH"
   },
   "outputs": [],
   "source": [
    "#mount google drive in colab session\n",
    "#enter path to where the top-level git repo was cloned\n",
    "my_path = '/content/drive/My Drive/Colab Notebooks/imics_lab_repositories/load_data_time_series_dev'"
   ]
  },
  {
   "cell_type": "markdown",
   "metadata": {
    "id": "6ZiY8knZYoDH"
   },
   "source": [
    "# Imports"
   ]
  },
  {
   "cell_type": "code",
   "execution_count": 2,
   "metadata": {
    "executionInfo": {
     "elapsed": 1883,
     "status": "ok",
     "timestamp": 1634227858849,
     "user": {
      "displayName": "Lee Hinkle",
      "photoUrl": "https://lh3.googleusercontent.com/a-/AOh14GgewSVTK-UUEEP0ihHQARBRqOb4YrK-IiepxHiI=s64",
      "userId": "00071704663307985880"
     },
     "user_tz": 300
    },
    "id": "q6H67o-YARCx"
   },
   "outputs": [],
   "source": [
    "import os\n",
    "import shutil\n",
    "import time\n",
    "from datetime import datetime\n",
    "import numpy as np\n",
    "import matplotlib.pyplot as plt # for plotting training curves\n",
    "import tensorflow as tf\n",
    "from tensorflow import keras #added to save model\n",
    "from tensorflow.keras import layers #format matches MNIST example\n",
    "from tensorflow.keras.callbacks import EarlyStopping\n",
    "#imports for computing and displaying output metrics\n",
    "import seaborn as sns\n",
    "import pandas as pd\n",
    "from sklearn.metrics import classification_report\n",
    "from sklearn.metrics import accuracy_score, confusion_matrix, precision_recall_fscore_support\n",
    "\n",
    "# general utilities used throughout load_data\n",
    "util_ffname = os.path.join(my_path + '/load_data_utils.py')\n",
    "shutil.copy(util_ffname,'load_data_utils.py')\n",
    "\n",
    "from load_data_utils import what_is_my_name\n",
    "from load_data_utils import get_env_info\n",
    "from load_data_utils import get_log_fname\n",
    "from load_data_utils import get_shapes # I don't think this is callable...\n"
   ]
  },
  {
   "cell_type": "markdown",
   "metadata": {
    "id": "sKIn1wrP1iCR"
   },
   "source": [
    "# Get the numpy arrays using e4_load_dataset.py"
   ]
  },
  {
   "cell_type": "code",
   "execution_count": 4,
   "metadata": {
    "colab": {
     "base_uri": "https://localhost:8080/"
    },
    "executionInfo": {
     "elapsed": 21488,
     "status": "ok",
     "timestamp": 1634227926157,
     "user": {
      "displayName": "Lee Hinkle",
      "photoUrl": "https://lh3.googleusercontent.com/a-/AOh14GgewSVTK-UUEEP0ihHQARBRqOb4YrK-IiepxHiI=s64",
      "userId": "00071704663307985880"
     },
     "user_tz": 300
    },
    "id": "n3doNNsatxmY",
    "outputId": "5017e59b-c031-4fd7-ec29-51d96867b6e3"
   },
   "outputs": [
    {
     "name": "stdout",
     "output_type": "stream",
     "text": [
      "Unzipping MobiAct Dataset\n",
      "Generating filenames  JOG_acc_*.txt  from  /content/MobiAct_Dataset/JOG/  directory\n",
      "Generating filenames  JUM_acc_*.txt  from  /content/MobiAct_Dataset/JUM/  directory\n",
      "Generating filenames  STD_acc_*.txt  from  /content/MobiAct_Dataset/STD/  directory\n",
      "Generating filenames  STN_acc_*.txt  from  /content/MobiAct_Dataset/STN/  directory\n",
      "Generating filenames  STU_acc_*.txt  from  /content/MobiAct_Dataset/STU/  directory\n",
      "Generating filenames  WAL_acc_*.txt  from  /content/MobiAct_Dataset/WAL/  directory\n",
      "Data imported from MobiAct ADL\n",
      "This pass for paper pipeline validation\n",
      "standard load_data except xyz included and kernel remains 17\n",
      "\n"
     ]
    }
   ],
   "source": [
    "#DATASET = \"e4_Nov2019\" \n",
    "DATASET = \"MobiAct ADL\" \n",
    "if (DATASET == 'e4_Nov2019'):\n",
    "    full_filename = my_path+os.path.join('/HAR/e4_wristband_Nov2019/'+'e4_load_dataset.py')\n",
    "    shutil.copy(full_filename,'e4_load_dataset.py')\n",
    "    from e4_load_dataset import e4_load_dataset\n",
    "    x_train, y_train, x_validate, y_validate, x_test, y_test = e4_load_dataset(incl_val_group = True, incl_xyz_accel= True)\n",
    "    #x_train, y_train, x_test, y_test = e4_load_dataset(incl_val_group = False, incl_xyz_accel= True)\n",
    "    t_names = ['Downstairs', 'Jogging', 'Sitting', 'Standing', 'Upstairs', 'Walking']\n",
    "    dataset_info = \"Data imported from \" + DATASET + \"\\n\"\n",
    "    dataset_info += \"This pass for paper images, train validate are sub1 and sub2 with\\n\"\n",
    "    dataset_info += \"62%/28% split - course because it is by activity.  Test = sub3\\n\"\n",
    "elif (DATASET == 'MobiAct ADL'):\n",
    "    full_filename = my_path+os.path.join('/HAR/MobiAct/'+'mobiact_adl_load_dataset.py')\n",
    "    shutil.copy(full_filename,'mobiact_adl_load_dataset.py')\n",
    "    from mobiact_adl_load_dataset import mobiact_adl_load_dataset\n",
    "    x_train, y_train, x_validate, y_validate, x_test, y_test = mobiact_adl_load_dataset(incl_val_group = True, incl_xyz_accel= True)\n",
    "    k_size = 50\n",
    "    t_names = ['JOG','JUM','STD','STN','STU','WAL']\n",
    "    dataset_info = \"Data imported from \" + DATASET + \"\\n\"\n",
    "    dataset_info += \"This pass for paper pipeline validation\\n\"\n",
    "    dataset_info += \"standard load_data except xyz included and kernel remains 17\\n\"  \n",
    "else:\n",
    "    dataset_info = \"ERROR: dataset unknown\"\n",
    "print(dataset_info)"
   ]
  },
  {
   "cell_type": "markdown",
   "metadata": {
    "id": "NNtgtRWz3aDA"
   },
   "source": [
    "# Keras 1D CNN model \n",
    "topology and good article [here](https://blog.goodaudience.com/introduction-to-1d-convolutional-neural-networks-in-keras-for-time-sequences-3a7ff801a2cf)"
   ]
  },
  {
   "cell_type": "code",
   "execution_count": 5,
   "metadata": {
    "executionInfo": {
     "elapsed": 95,
     "status": "ok",
     "timestamp": 1634227934819,
     "user": {
      "displayName": "Lee Hinkle",
      "photoUrl": "https://lh3.googleusercontent.com/a-/AOh14GgewSVTK-UUEEP0ihHQARBRqOb4YrK-IiepxHiI=s64",
      "userId": "00071704663307985880"
     },
     "user_tz": 300
    },
    "id": "d4p9SPmQdo_0"
   },
   "outputs": [],
   "source": [
    "# topology and good article here\n",
    "# https://blog.goodaudience.com/introduction-to-1d-convolutional-neural-networks-in-keras-for-time-sequences-3a7ff801a2cf\n",
    "# even though this is an interactive notebook, I've put train and test into\n",
    "# functions hoping this will make it easier to swap models in the future\n",
    "def build_1D_CNN(num_filters = 100, k1_size=17, k2_size=17, dropout = 0.5, mpool_size = 2):\n",
    "  n_timesteps, n_features, n_outputs = x_train.shape[1], x_train.shape[2], y_train.shape[1]\n",
    "  model = keras.Sequential(\n",
    "    [\n",
    "        layers.Input(shape=x_train[0].shape),\n",
    "        layers.BatchNormalization(scale=False),\n",
    "        layers.Conv1D(filters=num_filters, kernel_size=k1_size, activation='relu',input_shape=(n_timesteps,n_features)),\n",
    "        layers.Dropout(dropout),\n",
    "        layers.Conv1D(filters=num_filters, kernel_size=k2_size, activation='relu'),\n",
    "        layers.Dropout(dropout),\n",
    "        layers.MaxPooling1D(pool_size=mpool_size),\n",
    "        layers.Flatten(),\n",
    "        layers.Dense(100, activation='relu'),\n",
    "        layers.Dense(50, activation='relu'),\n",
    "        layers.Dense(n_outputs, activation='softmax')\n",
    "\n",
    "    #   layers.Conv1D(filters=num_filters, kernel_size=k1_size, activation='relu',input_shape=(n_timesteps,n_features)),\n",
    "    #   layers.Dropout(dropout),\n",
    "    #   layers.Conv1D(filters=num_filters, kernel_size=k2_size, activation='relu'),\n",
    "    #   layers.Dropout(dropout),\n",
    "    #   layers.MaxPooling1D(pool_size=mpool_size),\n",
    "    #   layers.Flatten(),\n",
    "    #   layers.Dense(100, activation='relu'),\n",
    "    #   layers.Dense(n_outputs, activation='softmax')\n",
    "        ])\n",
    "  return model \n",
    "\n",
    "def train_1D_CNN(model,\n",
    "    BATCH_SIZE = 32,    # Typical values are 8, 16 or 32\n",
    "    MAX_EPOCHS = 200): # Max number run unless earlystopping callback fires\n",
    "    # increasing dropout to 0.8 and higher requires more than 100 epochs\n",
    "    # see https://www.tensorflow.org/api_docs/python/tf/keras/callbacks/EarlyStopping\n",
    "    callback = EarlyStopping(monitor='val_loss', mode = 'min', patience=20)\n",
    "    model.compile(loss=\"categorical_crossentropy\", optimizer=\"adam\", metrics=[\"accuracy\"])\n",
    "\n",
    "    history = model.fit(\n",
    "        x_train,y_train,\n",
    "        batch_size = BATCH_SIZE,\n",
    "        epochs=MAX_EPOCHS,\n",
    "        callbacks=[callback],\n",
    "        validation_data=(x_validate,y_validate),\n",
    "        verbose = 0) #0 = silent, 1 = progress bar, 2 = one line per epoch\n",
    "    return history\n",
    "#model = build_1D_CNN()\n",
    "#model.summary()\n",
    "#history = train_1D_CNN(model)"
   ]
  },
  {
   "cell_type": "markdown",
   "metadata": {
    "id": "IweUhhTdPrL2"
   },
   "source": [
    "# Function: \n",
    "run_model loads model and predicts using the test dataset"
   ]
  },
  {
   "cell_type": "code",
   "execution_count": 6,
   "metadata": {
    "executionInfo": {
     "elapsed": 96,
     "status": "ok",
     "timestamp": 1634227939397,
     "user": {
      "displayName": "Lee Hinkle",
      "photoUrl": "https://lh3.googleusercontent.com/a-/AOh14GgewSVTK-UUEEP0ihHQARBRqOb4YrK-IiepxHiI=s64",
      "userId": "00071704663307985880"
     },
     "user_tz": 300
    },
    "id": "OlPIcyEIl2--"
   },
   "outputs": [],
   "source": [
    "def run_model(model, testX, testy, returnOneHot=False):\n",
    "    predictions = model.predict(testX, verbose=0,batch_size=32)\n",
    "    #must use values not one-hot encoding, use argmax to convert\n",
    "    y_pred = np.argmax(predictions, axis=-1) # axis=-1 means last axis\n",
    "    y_temp = np.argmax(testy, axis=-1)\n",
    "    if returnOneHot:\n",
    "        return (accuracy_score(y_temp, y_pred)),y_pred, predictions\n",
    "    else:\n",
    "        return (accuracy_score(y_temp, y_pred)),y_pred"
   ]
  },
  {
   "cell_type": "markdown",
   "metadata": {
    "id": "1SDqiPJAUD3M"
   },
   "source": [
    "# Train, Evaluate using Validation Set, and Save Final Model - 10 passes"
   ]
  },
  {
   "cell_type": "code",
   "execution_count": 10,
   "metadata": {
    "colab": {
     "base_uri": "https://localhost:8080/"
    },
    "executionInfo": {
     "elapsed": 418531,
     "status": "ok",
     "timestamp": 1634229620361,
     "user": {
      "displayName": "Lee Hinkle",
      "photoUrl": "https://lh3.googleusercontent.com/a-/AOh14GgewSVTK-UUEEP0ihHQARBRqOb4YrK-IiepxHiI=s64",
      "userId": "00071704663307985880"
     },
     "user_tz": 300
    },
    "id": "ywmAhEZUUDY8",
    "outputId": "4149ccf4-365d-477a-fc66-535d1eafab41"
   },
   "outputs": [
    {
     "name": "stdout",
     "output_type": "stream",
     "text": [
      "Model: \"sequential_3\"\n",
      "_________________________________________________________________\n",
      "Layer (type)                 Output Shape              Param #   \n",
      "=================================================================\n",
      "batch_normalization_3 (Batch (None, 500, 1)            3         \n",
      "_________________________________________________________________\n",
      "conv1d_6 (Conv1D)            (None, 490, 100)          1200      \n",
      "_________________________________________________________________\n",
      "dropout_6 (Dropout)          (None, 490, 100)          0         \n",
      "_________________________________________________________________\n",
      "conv1d_7 (Conv1D)            (None, 486, 100)          50100     \n",
      "_________________________________________________________________\n",
      "dropout_7 (Dropout)          (None, 486, 100)          0         \n",
      "_________________________________________________________________\n",
      "max_pooling1d_3 (MaxPooling1 (None, 60, 100)           0         \n",
      "_________________________________________________________________\n",
      "flatten_3 (Flatten)          (None, 6000)              0         \n",
      "_________________________________________________________________\n",
      "dense_9 (Dense)              (None, 100)               600100    \n",
      "_________________________________________________________________\n",
      "dense_10 (Dense)             (None, 50)                5050      \n",
      "_________________________________________________________________\n",
      "dense_11 (Dense)             (None, 6)                 306       \n",
      "=================================================================\n",
      "Total params: 656,759\n",
      "Trainable params: 656,757\n",
      "Non-trainable params: 2\n",
      "_________________________________________________________________\n",
      "Training pass 1 of 10 Validation Accuracy 0.960\n",
      "Training pass 2 of 10 Validation Accuracy 0.979\n",
      "Training pass 3 of 10 Validation Accuracy 0.964\n",
      "Training pass 4 of 10 Validation Accuracy 0.973\n",
      "Training pass 5 of 10 Validation Accuracy 0.938\n",
      "Training pass 6 of 10 Validation Accuracy 0.968\n",
      "Training pass 7 of 10 Validation Accuracy 0.972\n",
      "Training pass 8 of 10 Validation Accuracy 0.970\n",
      "Training pass 9 of 10 Validation Accuracy 0.938\n",
      "Training pass 10 of 10 Validation Accuracy 0.980\n",
      "Accuracy,1,2,3,4,5,6,7,8,9,10,Avg\n",
      " Validation,0.960,0.979,0.964,0.973,0.938,0.968,0.972,0.970,0.938,0.980,0.964\n",
      "\n",
      "INFO:tensorflow:Assets written to: my_1D_CNN_model/assets\n",
      "Saving results to /content/drive/My Drive/Colab_Run_Results/e4_rev2_Oct-14-2021_1640.txt\n"
     ]
    }
   ],
   "source": [
    "save_log = True # True = write results to disk\n",
    "repeats = 10\n",
    "best_acc = 0\n",
    "for repeat_num in range(repeats):\n",
    "    model = build_1D_CNN(k1_size=11, k2_size=5,\n",
    "                         dropout = 0.5,\n",
    "                         mpool_size = 8)\n",
    "    if (repeat_num == 0):\n",
    "        model.summary()\n",
    "    history = train_1D_CNN(model)\n",
    "    val_acc = history.history['val_accuracy'][-1]\n",
    "    print(\"Training pass\", repeat_num+1, \"of\", repeats, \n",
    "          \"Validation Accuracy\", '{0:.3f}'.format(val_acc))\n",
    "    if (val_acc > best_acc):\n",
    "        best_model = model\n",
    "    latex_fmt = False\n",
    "    if (latex_fmt):\n",
    "        col_sep = '&' # for import as LaTeX table\n",
    "        end_line = '\\\\\\\\ \\\\hline\\n' # end of table row with underline for latex\n",
    "    else: #csv\n",
    "        col_sep = ',' # for csv\n",
    "        end_line = '\\n' # for csv\n",
    "    if (repeat_num == 0):\n",
    "        header = 'Accuracy'+ col_sep + str(repeat_num + 1)\n",
    "        val_acc_str = 'Validation'+ col_sep + '{0:.3f}'.format(val_acc)\n",
    "        cumm_val_acc = val_acc\n",
    "    else:\n",
    "        header += col_sep + str(repeat_num + 1)\n",
    "        val_acc_str += col_sep + '{0:.3f}'.format(val_acc)\n",
    "        cumm_val_acc += val_acc\n",
    "header += col_sep + 'Avg' + end_line\n",
    "val_acc_str += col_sep + '{0:.3f}'.format(cumm_val_acc/repeats)+ end_line\n",
    "print (header, val_acc_str)\n",
    "best_model.save('my_1D_CNN_model')\n",
    "if save_log:\n",
    "    log_ffname = get_log_fname(\n",
    "    log_file_dir = '/content/drive/My Drive/Colab_Run_Results',\n",
    "    base_fname = \"e4_rev2\")\n",
    "    print(\"Saving results to\", log_ffname)\n",
    "    with open(log_ffname, \"a\") as file_object:\n",
    "            file_object.write(dataset_info)\n",
    "            file_object.write(\"Model training\\n\")\n",
    "            file_object.write(header)\n",
    "            file_object.write(val_acc_str)"
   ]
  },
  {
   "cell_type": "markdown",
   "metadata": {
    "id": "mvEjQzQRgShB"
   },
   "source": [
    "# Run Saved Model on Scripted Test Set"
   ]
  },
  {
   "cell_type": "code",
   "execution_count": 11,
   "metadata": {
    "colab": {
     "base_uri": "https://localhost:8080/",
     "height": 607
    },
    "executionInfo": {
     "elapsed": 1439,
     "status": "ok",
     "timestamp": 1634229640894,
     "user": {
      "displayName": "Lee Hinkle",
      "photoUrl": "https://lh3.googleusercontent.com/a-/AOh14GgewSVTK-UUEEP0ihHQARBRqOb4YrK-IiepxHiI=s64",
      "userId": "00071704663307985880"
     },
     "user_tz": 300
    },
    "id": "3wQmzPpRcYcS",
    "outputId": "78faaa06-43bf-462f-bfa6-33747532e38f"
   },
   "outputs": [
    {
     "name": "stdout",
     "output_type": "stream",
     "text": [
      "              precision    recall  f1-score   support\n",
      "\n",
      "         JOG       0.89      0.98      0.93       147\n",
      "         JUM       0.97      0.99      0.98       145\n",
      "         STD       1.00      1.00      1.00       425\n",
      "         STN       0.73      0.88      0.80        60\n",
      "         STU       1.00      0.50      0.67        60\n",
      "         WAL       0.94      0.94      0.94       558\n",
      "\n",
      "    accuracy                           0.95      1395\n",
      "   macro avg       0.92      0.88      0.89      1395\n",
      "weighted avg       0.95      0.95      0.95      1395\n",
      "\n"
     ]
    },
    {
     "data": {
      "image/png": "[encoded data removed]",
      "text/plain": [
       "<Figure size 468x360 with 2 Axes>"
      ]
     },
     "metadata": {
      "needs_background": "light"
     },
     "output_type": "display_data"
    },
    {
     "name": "stdout",
     "output_type": "stream",
     "text": [
      "saving cm plot as /content/drive/My Drive/Colab_Run_Results/e4_rev2_Oct-14-2021_1640_cm.pdf\n"
     ]
    }
   ],
   "source": [
    "model = keras.models.load_model('my_1D_CNN_model')\n",
    "test_acc, y_pred = run_model(model, x_test, y_test)\n",
    "#must use values not one-hot encoding, use argmax to convert\n",
    "y_test_act = np.argmax(y_test, axis=-1) #undo one-hot encoding\n",
    "class_rpt_for_log = classification_report(y_test_act, y_pred, target_names=t_names)\n",
    "print(class_rpt_for_log)\n",
    "cm = confusion_matrix(y_test_act, y_pred)\n",
    "cm_df = pd.DataFrame(cm,\n",
    "                    index = t_names, \n",
    "                    columns = t_names)\n",
    "fig = plt.figure(figsize=(6.5,5))\n",
    "sns.heatmap(cm_df, annot=True, fmt='d', cmap='cubehelix_r')\n",
    "plt.title('1D CNN Accuracy:{0:.3f}'.format(accuracy_score(y_test_act, y_pred)))\n",
    "plt.ylabel('True label')\n",
    "plt.xlabel('Predicted label')\n",
    "plt.tight_layout() # keeps labels from being cutoff when saving as pdf\n",
    "plt.show()\n",
    "#save the confusion matrix figure as pdf\n",
    "if save_log:\n",
    "    with open(log_ffname, \"a\") as file_object:\n",
    "        file_object.write(\"Classification Report on Test Set\\n\")\n",
    "        file_object.write(class_rpt_for_log)\n",
    "    cm_ffname = log_ffname.split('.')[0] + '_cm.pdf'\n",
    "    print(\"saving cm plot as\",cm_ffname)\n",
    "    fig.savefig(cm_ffname,format='pdf')"
   ]
  },
  {
   "cell_type": "code",
   "execution_count": 12,
   "metadata": {
    "colab": {
     "base_uri": "https://localhost:8080/"
    },
    "executionInfo": {
     "elapsed": 1021,
     "status": "ok",
     "timestamp": 1634229741363,
     "user": {
      "displayName": "Lee Hinkle",
      "photoUrl": "https://lh3.googleusercontent.com/a-/AOh14GgewSVTK-UUEEP0ihHQARBRqOb4YrK-IiepxHiI=s64",
      "userId": "00071704663307985880"
     },
     "user_tz": 300
    },
    "id": "KrKj8l1aiJuc",
    "outputId": "b06f656a-9713-4795-eeba-2c778f40eda9"
   },
   "outputs": [
    {
     "name": "stdout",
     "output_type": "stream",
     "text": [
      "Model: \"sequential_12\"\n",
      "_________________________________________________________________\n",
      "Layer (type)                 Output Shape              Param #   \n",
      "=================================================================\n",
      "batch_normalization_12 (Batc (None, 500, 1)            3         \n",
      "_________________________________________________________________\n",
      "conv1d_24 (Conv1D)           (None, 490, 100)          1200      \n",
      "_________________________________________________________________\n",
      "dropout_24 (Dropout)         (None, 490, 100)          0         \n",
      "_________________________________________________________________\n",
      "conv1d_25 (Conv1D)           (None, 486, 100)          50100     \n",
      "_________________________________________________________________\n",
      "dropout_25 (Dropout)         (None, 486, 100)          0         \n",
      "_________________________________________________________________\n",
      "max_pooling1d_12 (MaxPooling (None, 60, 100)           0         \n",
      "_________________________________________________________________\n",
      "flatten_12 (Flatten)         (None, 6000)              0         \n",
      "_________________________________________________________________\n",
      "dense_36 (Dense)             (None, 100)               600100    \n",
      "_________________________________________________________________\n",
      "dense_37 (Dense)             (None, 50)                5050      \n",
      "_________________________________________________________________\n",
      "dense_38 (Dense)             (None, 6)                 306       \n",
      "=================================================================\n",
      "Total params: 656,759\n",
      "Trainable params: 656,757\n",
      "Non-trainable params: 2\n",
      "_________________________________________________________________\n"
     ]
    }
   ],
   "source": [
    "#save the model summary and model plot\n",
    "if save_log:\n",
    "    model = keras.models.load_model('my_1D_CNN_model')\n",
    "    my_model = model.summary()\n",
    "    full_model_fname = log_ffname.split('.')[0] + '_model.txt'\n",
    "    with open(full_model_fname, \"a\") as file_object:\n",
    "        model.summary(print_fn=lambda x: file_object.write(x + '\\n'))\n",
    "        #acknowledgement https://stackoverflow.com/users/14951382/sparklingdew\n",
    "    #plot using keras function\n",
    "    #ref https://keras.io/api/utils/model_plotting_utils/\n",
    "    full_mplot_fname = log_ffname.split('.')[0] + '_model.png'\n",
    "    tf.keras.utils.plot_model(model, to_file=full_mplot_fname, show_shapes=True)"
   ]
  },
  {
   "cell_type": "markdown",
   "metadata": {
    "id": "J7ANmKaVFmUJ"
   },
   "source": [
    "# Load the freeform walk file using e4_get_x_y_sub"
   ]
  },
  {
   "cell_type": "code",
   "execution_count": 13,
   "metadata": {
    "colab": {
     "base_uri": "https://localhost:8080/"
    },
    "executionInfo": {
     "elapsed": 3143,
     "status": "ok",
     "timestamp": 1634229927559,
     "user": {
      "displayName": "Lee Hinkle",
      "photoUrl": "https://lh3.googleusercontent.com/a-/AOh14GgewSVTK-UUEEP0ihHQARBRqOb4YrK-IiepxHiI=s64",
      "userId": "00071704663307985880"
     },
     "user_tz": 300
    },
    "id": "Q6davky3Cxz8",
    "outputId": "70f8a658-c93a-4329-a11c-828694b9fda2"
   },
   "outputs": [
    {
     "name": "stdout",
     "output_type": "stream",
     "text": [
      "Processing  sub1/1574625540_A01F11.zip\n",
      "Unzipping e4 file in local directory /content/temp\n",
      "/content/temp/ACC.csv Sample frequency =  32.0  Hz\n",
      "File start time =  Sun, 24 Nov 2019 19:59:00\n",
      "File end time   =  Sun, 24 Nov 2019 20:10:59\n",
      "Tag info (button presses) from tags.csv\n",
      "    UTC_time          Local Time\n",
      "0 1574625579.24 Sun, 24 Nov 2019 19:59:39\n",
      "1 1574626246.7 Sun, 24 Nov 2019 20:10:46\n",
      "Label Counts - # samples before sliding window\n",
      " Walking       14752\n",
      "Sitting        2656\n",
      "Upstairs       2017\n",
      "Undefined      1842\n",
      "Downstairs     1536\n",
      "Standing        128\n",
      "Jogging          97\n",
      "Name: label, dtype: int64\n",
      "Final Label Counts\n",
      "[['Downstairs' '18']\n",
      " ['Jogging' '1']\n",
      " ['Sitting' '81']\n",
      " ['Standing' '2']\n",
      " ['Upstairs' '28']\n",
      " ['Walking' '395']]\n",
      "Samples per Subject\n",
      "[[  1 525]]\n"
     ]
    }
   ],
   "source": [
    "from e4_get_x_y_sub import get_X_y_sub\n",
    "e4_flist = ['sub1/1574625540_A01F11.zip'] # sub1 Old main to Alkek and back\n",
    "x_unscript, y_unscript, sub_unscript, xys_info_unscript = get_X_y_sub(zip_flist = e4_flist)\n",
    "#print(get_shapes([x_unl,y_unl,sub_unl]))"
   ]
  },
  {
   "cell_type": "markdown",
   "metadata": {
    "id": "YBr9YtFFmpfg"
   },
   "source": [
    "# Shape and plot the labels to match the prediction format (numbers 0-5)"
   ]
  },
  {
   "cell_type": "code",
   "execution_count": null,
   "metadata": {
    "colab": {
     "base_uri": "https://localhost:8080/"
    },
    "executionInfo": {
     "elapsed": 197,
     "status": "ok",
     "timestamp": 1634181133042,
     "user": {
      "displayName": "Lee Hinkle",
      "photoUrl": "https://lh3.googleusercontent.com/a-/AOh14GgewSVTK-UUEEP0ihHQARBRqOb4YrK-IiepxHiI=s64",
      "userId": "00071704663307985880"
     },
     "user_tz": 300
    },
    "id": "ZvHrQ_tXjcxh",
    "outputId": "6719c27a-45f5-4ff5-ca6f-e8c78a1edcd4"
   },
   "outputs": [
    {
     "name": "stdout",
     "output_type": "stream",
     "text": [
      "{0: 'Downstairs', 1: 'Jogging', 2: 'Sitting', 3: 'Standing', 4: 'Upstairs', 5: 'Walking'}\n"
     ]
    }
   ],
   "source": [
    "# Converting label strings to numbers based on one-hot dictionary\n",
    "str_to_key_dict = {'Downstairs': 0, 'Jogging': 1, 'Sitting': 2, 'Standing': 3, 'Upstairs': 4, 'Walking': 5}\n",
    "key_to_str_dict = dict([(value, key) for key, value in str_to_key_dict.items()])\n",
    "print(key_to_str_dict)\n",
    "y_unscript_labelnums = np.vectorize(str_to_key_dict.get)(y_unscript)\n",
    "y_unscript_labelnums = np.ravel(y_unscript_labelnums[:,0]) #shape from [99,1] to [99,]"
   ]
  },
  {
   "cell_type": "code",
   "execution_count": null,
   "metadata": {
    "colab": {
     "base_uri": "https://localhost:8080/",
     "height": 225
    },
    "executionInfo": {
     "elapsed": 299,
     "status": "ok",
     "timestamp": 1634181136931,
     "user": {
      "displayName": "Lee Hinkle",
      "photoUrl": "https://lh3.googleusercontent.com/a-/AOh14GgewSVTK-UUEEP0ihHQARBRqOb4YrK-IiepxHiI=s64",
      "userId": "00071704663307985880"
     },
     "user_tz": 300
    },
    "id": "6i9kI8-5tAAK",
    "outputId": "86688cea-246e-401f-db8b-5d54ea91e58e"
   },
   "outputs": [
    {
     "data": {
      "image/png": "[encoded data removed]",
      "text/plain": [
       "<Figure size 432x216 with 1 Axes>"
      ]
     },
     "metadata": {
      "needs_background": "light"
     },
     "output_type": "display_data"
    }
   ],
   "source": [
    "# Plot the labeled data\n",
    "fig, ax = plt.subplots(1,1,figsize=(6,3))\n",
    "ax.plot(y_unscript_labelnums,linestyle=\"\",marker=\".\")\n",
    "plt.title('Actual Activity Labels')\n",
    "ax.set_xlabel('Elapsed Time(seconds)')\n",
    "ax.set_yticks(np.arange(6))\n",
    "ax.set_yticklabels(['Downstairs', 'Jogging','Sitting', 'Standing', 'Upstairs', 'Walking'])\n",
    "ax.grid()\n",
    "plt.tight_layout() # keeps labels from being cutoff when saving as pdf\n",
    "plt.show()"
   ]
  },
  {
   "cell_type": "markdown",
   "metadata": {
    "id": "rqRxkCV1F1ie"
   },
   "source": [
    "# Load saved final model and generate predictions"
   ]
  },
  {
   "cell_type": "code",
   "execution_count": null,
   "metadata": {
    "id": "lQBV2ABChbqJ"
   },
   "outputs": [],
   "source": [
    "model = keras.models.load_model('/content/my_1D_CNN_model')\n",
    "predictions = model.predict(x_unscript, verbose=0,batch_size=32)\n",
    "#must use values not one-hot encoding, use argmax to convert\n",
    "y_pred = np.argmax(predictions, axis=-1) # axis=-1 means last axis"
   ]
  },
  {
   "cell_type": "code",
   "execution_count": null,
   "metadata": {
    "colab": {
     "base_uri": "https://localhost:8080/"
    },
    "executionInfo": {
     "elapsed": 132,
     "status": "ok",
     "timestamp": 1634181192252,
     "user": {
      "displayName": "Lee Hinkle",
      "photoUrl": "https://lh3.googleusercontent.com/a-/AOh14GgewSVTK-UUEEP0ihHQARBRqOb4YrK-IiepxHiI=s64",
      "userId": "00071704663307985880"
     },
     "user_tz": 300
    },
    "id": "lX3Xm5l-mRBk",
    "outputId": "ffad8bad-3aa8-4b5a-f939-e4949b868276"
   },
   "outputs": [
    {
     "name": "stdout",
     "output_type": "stream",
     "text": [
      "{0: 'Downstairs', 1: 'Jogging', 2: 'Sitting', 3: 'Standing', 4: 'Upstairs', 5: 'Walking'}\n",
      "Final Label Counts\n",
      "[['Downstairs' '25']\n",
      " ['Sitting' '82']\n",
      " ['Standing' '2']\n",
      " ['Upstairs' '48']\n",
      " ['Walking' '368']]\n"
     ]
    }
   ],
   "source": [
    "# the one-hot encoding of the y_all here is meaningless since all labels are 'Not_Labeled'\n",
    "# using output from train encoding, flip dictionary, use to build string version\n",
    "# One-hot-encoding: category names -> int -> one-hot\n",
    "str_to_key_dict = {'Downstairs': 0, 'Jogging': 1, 'Sitting': 2, 'Standing': 3, 'Upstairs': 4, 'Walking': 5}\n",
    "key_to_str_dict = dict([(value, key) for key, value in str_to_key_dict.items()])\n",
    "print(key_to_str_dict)\n",
    "y_pred_labels = np.vectorize(key_to_str_dict.get)(y_pred)\n",
    "unique, counts = np.unique(y_pred_labels, return_counts=True)\n",
    "print(\"Final Label Counts\")\n",
    "print (np.asarray((unique, counts)).T)"
   ]
  },
  {
   "cell_type": "code",
   "execution_count": 28,
   "metadata": {
    "colab": {
     "base_uri": "https://localhost:8080/",
     "height": 225
    },
    "executionInfo": {
     "elapsed": 295,
     "status": "ok",
     "timestamp": 1634181210535,
     "user": {
      "displayName": "Lee Hinkle",
      "photoUrl": "https://lh3.googleusercontent.com/a-/AOh14GgewSVTK-UUEEP0ihHQARBRqOb4YrK-IiepxHiI=s64",
      "userId": "00071704663307985880"
     },
     "user_tz": 300
    },
    "id": "BJ63k_zjsdDA",
    "outputId": "c5d0790d-5f08-4cb9-bcbd-c67caa338fcb"
   },
   "outputs": [
    {
     "data": {
      "image/png": "[encoded data removed]",
      "text/plain": [
       "<Figure size 432x216 with 1 Axes>"
      ]
     },
     "metadata": {
      "needs_background": "light"
     },
     "output_type": "display_data"
    }
   ],
   "source": [
    "from random import randint\n",
    "from matplotlib import pyplot as plt\n",
    "import numpy as np\n",
    "gentry_y_pred = [randint(0,6) for i in range(550)]\n",
    "gentry_y_true = [i for i in gentry_y_pred]\n",
    "gentry_y_true[23] = (gentry_y_pred[23]+1)%7\n",
    "gentry_y_true[100] = (gentry_y_pred[100]+1)%7\n",
    "gentry_y_true[250] = (gentry_y_pred[250]+1)%7\n",
    "\n",
    "fig, ax = plt.subplots(1,1,figsize=(6,3))\n",
    "ax.scatter(range(len(gentry_y_pred)), (gentry_y_pred) ,marker=\".\")\n",
    "gentry_mislabels = list()\n",
    "for i in range(len(gentry_y_true)):\n",
    "    if gentry_y_pred[i] != gentry_y_true[i]:\n",
    "        gentry_mislabels.append((i, gentry_y_true[i]))\n",
    "ax.scatter([i[0] for i in gentry_mislabels], [i[1] for i in gentry_mislabels], marker='X', color='red')\n",
    "for m in gentry_mislabels:\n",
    "    plt.axvspan(m[0]-5, m[0]+5, color='yellow', alpha=0.5)\n",
    "plt.title('Predicted Activity Labels')\n",
    "ax.set_xlabel('Elapsed Time(seconds)')\n",
    "ax.set_yticks(np.arange(6))\n",
    "ax.set_yticklabels(['Downstairs', 'Jogging','Sitting', 'Standing', 'Upstairs', 'Walking'])\n",
    "ax.grid()\n",
    "plt.tight_layout() # keeps labels from being cutoff when saving as pdf\n",
    "plt.show()"
   ]
  },
  {
   "cell_type": "code",
   "execution_count": 22,
   "metadata": {
    "colab": {
     "base_uri": "https://localhost:8080/"
    },
    "executionInfo": {
     "elapsed": 107,
     "status": "ok",
     "timestamp": 1625593853275,
     "user": {
      "displayName": "Lee Hinkle",
      "photoUrl": "https://lh3.googleusercontent.com/a-/AOh14GgewSVTK-UUEEP0ihHQARBRqOb4YrK-IiepxHiI=s64",
      "userId": "00071704663307985880"
     },
     "user_tz": 300
    },
    "id": "cnNR9Lf1tO4A",
    "outputId": "adc2bdfe-7b58-44a3-a405-abee6115b412"
   },
   "outputs": [
    {
     "ename": "NameError",
     "evalue": "name 'save_log' is not defined",
     "output_type": "error",
     "traceback": [
      "\u001b[0;31m---------------------------------------------------------------------------\u001b[0m",
      "\u001b[0;31mNameError\u001b[0m                                 Traceback (most recent call last)",
      "\u001b[0;32m<ipython-input-22-cabc5f6abb41>\u001b[0m in \u001b[0;36m<module>\u001b[0;34m\u001b[0m\n\u001b[1;32m      1\u001b[0m \u001b[0;31m#save the predicted activity plot as pdf\u001b[0m\u001b[0;34m\u001b[0m\u001b[0;34m\u001b[0m\u001b[0;34m\u001b[0m\u001b[0m\n\u001b[0;32m----> 2\u001b[0;31m \u001b[0;32mif\u001b[0m \u001b[0msave_log\u001b[0m\u001b[0;34m:\u001b[0m\u001b[0;34m\u001b[0m\u001b[0;34m\u001b[0m\u001b[0m\n\u001b[0m\u001b[1;32m      3\u001b[0m     \u001b[0mfull_fig_fname\u001b[0m \u001b[0;34m=\u001b[0m \u001b[0mlog_full_fname\u001b[0m\u001b[0;34m.\u001b[0m\u001b[0msplit\u001b[0m\u001b[0;34m(\u001b[0m\u001b[0;34m'.'\u001b[0m\u001b[0;34m)\u001b[0m\u001b[0;34m[\u001b[0m\u001b[0;36m0\u001b[0m\u001b[0;34m]\u001b[0m \u001b[0;34m+\u001b[0m \u001b[0;34m'_pred.pdf'\u001b[0m\u001b[0;34m\u001b[0m\u001b[0;34m\u001b[0m\u001b[0m\n\u001b[1;32m      4\u001b[0m     \u001b[0mprint\u001b[0m\u001b[0;34m(\u001b[0m\u001b[0;34m\"saving prediction plot as\"\u001b[0m\u001b[0;34m,\u001b[0m\u001b[0mfull_fig_fname\u001b[0m\u001b[0;34m)\u001b[0m\u001b[0;34m\u001b[0m\u001b[0;34m\u001b[0m\u001b[0m\n\u001b[1;32m      5\u001b[0m     \u001b[0mfig\u001b[0m\u001b[0;34m.\u001b[0m\u001b[0msavefig\u001b[0m\u001b[0;34m(\u001b[0m\u001b[0mfull_fig_fname\u001b[0m\u001b[0;34m,\u001b[0m\u001b[0mformat\u001b[0m\u001b[0;34m=\u001b[0m\u001b[0;34m'pdf'\u001b[0m\u001b[0;34m)\u001b[0m\u001b[0;34m\u001b[0m\u001b[0;34m\u001b[0m\u001b[0m\n",
      "\u001b[0;31mNameError\u001b[0m: name 'save_log' is not defined"
     ]
    }
   ],
   "source": [
    "#save the predicted activity plot as pdf\n",
    "if save_log:\n",
    "    full_fig_fname = log_full_fname.split('.')[0] + '_pred.pdf'\n",
    "    print(\"saving prediction plot as\",full_fig_fname)\n",
    "    fig.savefig(full_fig_fname,format='pdf')"
   ]
  },
  {
   "cell_type": "markdown",
   "metadata": {
    "id": "KFYaPqqSno_B"
   },
   "source": [
    "# Make a better plot to visualize the differences"
   ]
  },
  {
   "cell_type": "code",
   "execution_count": null,
   "metadata": {
    "colab": {
     "base_uri": "https://localhost:8080/",
     "height": 225
    },
    "executionInfo": {
     "elapsed": 280,
     "status": "ok",
     "timestamp": 1634181218477,
     "user": {
      "displayName": "Lee Hinkle",
      "photoUrl": "https://lh3.googleusercontent.com/a-/AOh14GgewSVTK-UUEEP0ihHQARBRqOb4YrK-IiepxHiI=s64",
      "userId": "00071704663307985880"
     },
     "user_tz": 300
    },
    "id": "rn2wB-FLntmd",
    "outputId": "b5255802-f451-4813-bf16-cf63595b76b1"
   },
   "outputs": [
    {
     "data": {
      "image/png": "[encoded data removed]",
      "text/plain": [
       "<Figure size 864x216 with 1 Axes>"
      ]
     },
     "metadata": {
      "needs_background": "light"
     },
     "output_type": "display_data"
    }
   ],
   "source": [
    "delta_pred = np.subtract(y_unscript_labelnums, y_pred)\n",
    "mis_pred = np.abs(delta_pred)\n",
    "mis_pred_bool = np.where(mis_pred > 0.5, 1, 0)\n",
    "fig, ax = plt.subplots(1,1,figsize=(12,3))\n",
    "ax.plot(mis_pred_bool, linestyle=\"\",marker=\".\")\n",
    "plt.title('Mismatches - Labeled vs Predicted')\n",
    "ax.set_xlabel('Elapsed Time(seconds)')\n",
    "ax.set_yticks(np.arange(2))\n",
    "ax.set_yticklabels(['Looks Good!', 'Wrong!'])\n",
    "ax.grid()\n",
    "plt.tight_layout() # keeps labels from being cutoff when saving as pdf\n",
    "plt.show()"
   ]
  },
  {
   "cell_type": "markdown",
   "metadata": {
    "id": "bnIDxZK1p3zb"
   },
   "source": [
    "# Build vtt file with predicted activity labels\n",
    "Example format from the beginning of recorded and captioned video<pre>\n",
    "WEBVTT\n",
    "\n",
    "1\n",
    "00:00:03.840 --> 00:00:13.920\n",
    "Lee Hinkle: Alright Suzy a quick rundown of some work i've been doing on load data time series, and specifically for this particular session i'm going to talk about.\n",
    "\n",
    "2\n",
    "00:00:14.490 --> 00:00:23.550\n",
    "Lee Hinkle: Work on doing with the E4 wristband and so first off, let me kind of ground, you know and the load data time to us and the idea behind this is.\n",
    "</pre>"
   ]
  },
  {
   "cell_type": "code",
   "execution_count": 1,
   "metadata": {},
   "outputs": [],
   "source": [
    "def label_confidence(l):\n",
    "  return max(l)/sum(l)"
   ]
  },
  {
   "cell_type": "code",
   "execution_count": null,
   "metadata": {
    "colab": {
     "base_uri": "https://localhost:8080/"
    },
    "executionInfo": {
     "elapsed": 117,
     "status": "ok",
     "timestamp": 1625593895231,
     "user": {
      "displayName": "Lee Hinkle",
      "photoUrl": "https://lh3.googleusercontent.com/a-/AOh14GgewSVTK-UUEEP0ihHQARBRqOb4YrK-IiepxHiI=s64",
      "userId": "00071704663307985880"
     },
     "user_tz": 300
    },
    "id": "woti0FthsJ6T",
    "outputId": "a0c09522-115f-41bd-e63c-d81614c4d4e6"
   },
   "outputs": [
    {
     "name": "stdout",
     "output_type": "stream",
     "text": [
      "660\n",
      "00:11:09.000 --> 00:11:10.000\n",
      "Walking\n",
      "\n",
      "661\n",
      "00:11:10.000 --> 00:11:11.000\n",
      "Upstairs\n",
      "\n",
      "662\n",
      "00:11:11.000 --> 00:11:12.000\n",
      "Walking\n",
      "\n",
      "663\n",
      "00:11:12.000 --> 00:11:13.000\n",
      "Walking\n",
      "\n",
      "664\n",
      "00:11:13.000 --> 00:11:14.000\n",
      "Upstairs\n",
      "\n"
     ]
    }
   ],
   "source": [
    "START_SECS = 9 # this is the number of seconds of video before 1st label\n",
    "STEP_SECS = 1 # this is the number of seconds until the next sample is evaluated\n",
    "my_labels_vtt = 'WEBVTT\\n\\n' # header\n",
    "my_labels_vtt += '1\\n' # put in first line before labels\n",
    "my_labels_vtt += '00:00:05.000 --> 00:00:10.000\\n'\n",
    "my_labels_vtt += 'activities shown are predictions by the trained model\\n\\n'\n",
    "\n",
    "num_rows = np.shape(y_pred_labels)[0]\n",
    "for i in range(2,num_rows):\n",
    "    start = datetime.fromtimestamp(START_SECS + i*STEP_SECS)\n",
    "    end = datetime.fromtimestamp(START_SECS+((i+1)*STEP_SECS))\n",
    "    my_labels_vtt += str(i) + \"\\n\"\n",
    "    my_labels_vtt += start.strftime(\"%H:%M:%S.000\")\n",
    "    #my_labels_vtt += (time.strftime(\"%H:%M:%S.000\", time.gmtime(START_TIME+i*STEP_SECS)))\n",
    "    my_labels_vtt += \" --> \"\n",
    "    my_labels_vtt += end.strftime(\"%H:%M:%S.000\")\n",
    "    #my_labels_vtt += (time.strftime(\"%H:%M:%S.000\", time.gmtime(START_TIME+((i+1)*STEP_SECS))))\n",
    "    my_labels_vtt += \"\\n\"\n",
    "    if label label_confidence(predictions[i]) < 0.6:\n",
    "        my_labels_vtt += \"*** \" + y_pred_labels[i] + \"***\\n\\n\"\n",
    "    else:\n",
    "        my_labels_vtt += y_pred_labels[i] + \"\\n\\n\"\n",
    "#print(my_labels_vtt) # pretty long and makes scrolling a pain, should make 'head' type call\n",
    "#acknowledgement https://stackoverflow.com/users/2146491/b%c5%82a%c5%bcej-michalik\n",
    "#this is a 'tail' type call\n",
    "print('\\n'.join(my_labels_vtt.splitlines()[-20:]))"
   ]
  },
  {
   "cell_type": "markdown",
   "metadata": {
    "id": "LXW82TKqh-GS"
   },
   "source": [
    "# Write vtt file"
   ]
  },
  {
   "cell_type": "code",
   "execution_count": null,
   "metadata": {
    "id": "Q1MKHAEb6N92"
   },
   "outputs": [],
   "source": [
    "full_vtt_fname = log_full_fname.split('.')[0] + '_cc.vtt'\n",
    "text_file = open(full_vtt_fname, \"w\")\n",
    "n = text_file.write(my_labels_vtt)\n",
    "text_file.close()"
   ]
  },
  {
   "cell_type": "code",
   "execution_count": null,
   "metadata": {},
   "outputs": [],
   "source": [
    "for i in range(0, len(predictions), 10):\n",
    "    start = datetime.fromtimestamp(0 + i*1)\n",
    "    clean = True\n",
    "    for l in predictions[i:i+10]:\n",
    "        if label_confidence(l) < 0.5:\n",
    "            clean = False\n",
    "    print('{}\\t\\t{}'.format(start.strftime(\"%H:%M:%S.000\"), 'Good' if clean else 'Review'))"
   ]
  },
  {
   "cell_type": "code",
   "execution_count": 32,
   "metadata": {},
   "outputs": [],
   "source": [
    "import pandas as pd\n",
    "table_frame = pd.DataFrame.from_dict(\n",
    "    {\n",
    "        'Activity':['Unscripted Subject 1', 'Unscripted Subject 2'],\n",
    "        'Length':['time 1', 'time 2'],\n",
    "        'Number of segments':['len(walk1)', 'len(walk2)'],\n",
    "        'Accuracy Before Review':['acc 1', 'acc 2'],\n",
    "        'Accuracy After Review': ['acc 1', 'acc 2'],\n",
    "        'Time to Review': ['time 1', 'time 2']\n",
    "    }\n",
    ")\n",
    "print(table_frame)"
   ]
  },
  {
   "cell_type": "markdown",
   "metadata": {
    "id": "puxCg0tqqqpo"
   },
   "source": [
    "# You've reached the gutter where old code gets dumped"
   ]
  },
  {
   "cell_type": "code",
   "execution_count": null,
   "metadata": {
    "id": "vnn-_iHV2Y70"
   },
   "outputs": [],
   "source": [
    "### THIS TAKES A LONG TIME TO RUN - AND IS HALF BAKED AT BEST!!! ###\n",
    "# Had nested loops of model parameters to semi-exhaustively search\n",
    "# for best values\n",
    "repeats = 5;\n",
    "save_log = False # True = write results to disk\n",
    "log_ffname = get_log_fname(base_fname = 'e4_hypertuning')\n",
    "\n",
    "if save_log:\n",
    "    print(\"Saving results to \",log_ffname)\n",
    "    with open(log_ffname, \"a\") as file_object:\n",
    "        file_object.write(log_info)\n",
    "        file_object.write(pass_info)\n",
    "\n",
    "else:\n",
    "    print(\"Log file will not be saved\")\n",
    "\n",
    "def run_experiment(this_k1_size, this_k2_size, this_d_out, this_mpool_size):\n",
    "    print(\"k1_size = \",this_k1_size,\"k2_size = \",this_k2_size,\n",
    "          \"d_out = \",this_d_out, \n",
    "          \"m_pool = \", this_mpool_size)\n",
    "    model = build_1D_CNN(k1_size=this_k1_size, k2_size=this_k2_size,\n",
    "                         dropout = this_d_out,\n",
    "                         mpool_size = this_mpool_size)\n",
    "    model.summary()\n",
    "    history = train_1D_CNN(model)\n",
    "    train_acc = history.history['accuracy'][-1]\n",
    "    val_acc = history.history['val_accuracy'][-1]\n",
    "\n",
    "    #Now run trained model against test set\n",
    "    test_acc, y_pred = run_model(model, x_test, y_test)\n",
    "    my_title = ('              Validation accuracy: {0:.3f}'.format(val_acc)+\n",
    "                 '                               '+\n",
    "                  'Test accuracy: {0:.3f}'.format(test_acc))\n",
    "    print (my_title)\n",
    "    #plot loss and confusion matrix side-by-side\n",
    "    fig, (ax1, ax2) = plt.subplots(1, 2, figsize = (13,5))\n",
    "    #fig.suptitle('Tight layout makes title overlap')\n",
    "    ax1.plot(history.history[\"loss\"], label=\"Training Loss\")\n",
    "    ax1.plot(history.history[\"val_loss\"], label=\"Validation Loss\")\n",
    "    ax1.legend()\n",
    "    ax1.axis(ymin=0,ymax=1.2) #set limit - 1.2 has been a good value experimentally\n",
    "    y_test_act = np.argmax(y_test, axis=-1) #undo one-hot encoding\n",
    "    cm = confusion_matrix(y_test_act, y_pred)\n",
    "    cm_df = pd.DataFrame(cm,\n",
    "                        index = t_names, \n",
    "                        columns = t_names)\n",
    "    g2 = sns.heatmap(cm_df, annot=True, fmt='d', cmap='cubehelix_r')\n",
    "    ax2.set_ylabel('True label')\n",
    "    ax2.set_xlabel('Predicted label')\n",
    "    plt.tight_layout()\n",
    "    plt.show()\n",
    "    return train_acc, val_acc, test_acc\n",
    "    #this is old code to output results in LaTex and csv formats\n",
    "    #col_sep = '&' # for import as LaTeX table\n",
    "    #end_line = '\\\\\\\\ \\\\hline\\n' # end of table row with underline for latex\n",
    "    #col_sep = ',' # for csv\n",
    "    #end_line = '\\n' # for csv\n",
    "\n",
    "\n",
    "#     if (repeat_num == 0):\n",
    "#         header = 'Accuracy'+ col_sep + str(repeat_num + 1)\n",
    "#         val_acc_str = 'Validation '+ col_sep +'%0.3f' % history.history['val_accuracy'][-1]\n",
    "#         cumm_val_acc = history.history['val_accuracy'][-1]\n",
    "#         pred_acc = 'Prediction ' + col_sep + '{0:.3f}'.format(acc)\n",
    "#         cumm_run_acc = acc #total acc for quick avg calc\n",
    "#     else:\n",
    "#         header += col_sep + str(repeat_num + 1)\n",
    "#         val_acc_str += col_sep + '%0.3f' % history.history['val_accuracy'][-1]\n",
    "#         cumm_val_acc += history.history['val_accuracy'][-1]\n",
    "#         pred_acc += col_sep + '{0:.3f}'.format(acc)\n",
    "#         cumm_run_acc += acc\n",
    "# header += col_sep + 'Avg' + end_line\n",
    "# val_acc_str += col_sep + '{0:.3f}'.format(cumm_val_acc/repeats)+ end_line\n",
    "# pred_acc += col_sep + '{0:.3f}'.format(cumm_run_acc/repeats)+ end_line\n",
    "# print (header, val_acc_str, pred_acc)\n",
    "# note this prints the classification report for the last run, not all repeats\n",
    "# y_test_act = np.argmax(y_test, axis=-1) #undo one-hot encoding\n",
    "# c_rpt = classification_report(y_test_act, y_pred, target_names=t_names)\n",
    "# print (c_rpt)\n",
    "\n",
    "#for repeat_num in range(repeats):  #rerun current config\n",
    "best_train_acc = 0\n",
    "best_val_acc = 0\n",
    "best_test_acc = 0\n",
    "best_k1_size = 0\n",
    "best_k2_size = 0\n",
    "best_d_out = 0\n",
    "best_m_pool = 0\n",
    "k1_sizes = [11,25] \n",
    "k2_sizes = [3,5,11,17] \n",
    "d_out = [0.4,0.5,0.6]#0.8,0.9] # higher increases training epochs\n",
    "m_pool = [2,4,6,8]\n",
    "\n",
    "#Just a quick csv dump for now\n",
    "print(\"Saving results to \",log_ffname)\n",
    "with open(log_ffname, \"a\") as file_object:\n",
    "    file_object.write(\"k1,k2,d_out,m_pool,val_acc,pass\\n\")\n",
    "\n",
    "for my_k1_size in k1_sizes:\n",
    "    for my_k2_size in k2_sizes:\n",
    "        for my_d_out in d_out:\n",
    "            for my_m_pool in m_pool:\n",
    "                test_acc_sum = 0\n",
    "                for repeat_num in range(repeats):  #rerun current config\n",
    "                    train_acc, val_acc, test_acc = run_experiment(my_k1_size,my_k2_size,my_d_out,my_m_pool)\n",
    "                    if (train_acc > best_train_acc):\n",
    "                        best_train_acc = train_acc\n",
    "                    print('Train Acc: {0:.3f}'.format(train_acc),\n",
    "                        ' Best: {0:.3f}'.format(best_train_acc))\n",
    "                    if (val_acc > best_val_acc):\n",
    "                        best_val_acc = val_acc                                \n",
    "                        best_k1_size = my_k1_size\n",
    "                        best_k2_size = my_k2_size\n",
    "                        best_d_out = my_d_out\n",
    "                        best_m_pool = my_m_pool\n",
    "                    print('Val  Acc: {0:.3f}'.format(val_acc),\n",
    "                        ' Best: {0:.3f}'.format(best_val_acc),\n",
    "                        ' Best k1_size/k2_size/d_out/m_pool', \n",
    "                          best_k1_size, best_k2_size, best_d_out, best_m_pool)\n",
    "                    if (test_acc > best_test_acc):\n",
    "                        best_test_acc = test_acc\n",
    "                    print('Test Acc: {0:.3f}'.format(test_acc),\n",
    "                        ' Best: {0:.3f}'.format(best_test_acc))\n",
    "\n",
    "                    print(\"----------- end of this pass \", repeat_num, \"-------------\")\n",
    "                    temp = (str(my_k1_size) + \",\" + str(my_k2_size) + \",\" \n",
    "                            + str(my_d_out) + \",\" + str(my_m_pool) + \",\" \n",
    "                            + '{0:.3f}'.format(val_acc)+ \",\" \n",
    "                            + '{0:.3f}'.format(test_acc) + \",\" + str(repeat_num)+\"\\n\")\n",
    "                    with open(log_ffname, \"a\") as file_object:\n",
    "                        file_object.write(temp)\n",
    "                    test_acc_sum += test_acc\n",
    "                print(\"avg test accuracy = {0:.3f}\".format(test_acc_sum/repeats))\n",
    "if save_log:\n",
    "    with open(log_full_fname, \"a\") as file_object:\n",
    "            file_object.write(val_acc_str)\n",
    "            file_object.write(pred_acc)\n",
    "            file_object.write(c_rpt)\n",
    "    #save the last plot as pdf\n",
    "    full_fig_fname = log_full_fname.split('.')[0] + '_loss.pdf'\n",
    "    print(\"saving loss plot as\",full_fig_fname)\n",
    "    fig.savefig(full_fig_fname,format='pdf')"
   ]
  },
  {
   "cell_type": "code",
   "execution_count": null,
   "metadata": {
    "colab": {
     "base_uri": "https://localhost:8080/"
    },
    "executionInfo": {
     "elapsed": 150,
     "status": "ok",
     "timestamp": 1625593762618,
     "user": {
      "displayName": "Lee Hinkle",
      "photoUrl": "https://lh3.googleusercontent.com/a-/AOh14GgewSVTK-UUEEP0ihHQARBRqOb4YrK-IiepxHiI=s64",
      "userId": "00071704663307985880"
     },
     "user_tz": 300
    },
    "id": "ebffNMNBHLZz",
    "outputId": "d24daaf0-30c5-4642-ad90-cf29cb9c4aab"
   },
   "outputs": [
    {
     "name": "stdout",
     "output_type": "stream",
     "text": [
      "Starting shapes:\n",
      "x_train shape is (380, 96, 4) data type is float64\n",
      "y_train shape is (380, 6) data type is float64\n",
      "x_validate shape is (329, 96, 4) data type is float64\n",
      "y_validate shape is (329, 6) data type is float64\n",
      "x_test shape is (338, 96, 4) data type is float64\n",
      "y_test shape is (338, 6) data type is float64\n",
      "\n",
      "Combined shapes:\n",
      "x_all shape is (1047, 96, 4) data type is float64\n",
      "y_all shape is (1047, 6) data type is float64\n",
      "\n"
     ]
    }
   ],
   "source": [
    "# OLD: Combine all Structured Data for Final Model Training\n",
    "print('Starting shapes:')\n",
    "print(get_shapes([x_train, y_train, x_validate, y_validate, x_test, y_test]))\n",
    "x_all = np.vstack((x_train,x_validate))\n",
    "x_all = np.vstack((x_all,x_test))\n",
    "y_all = np.vstack((y_train,y_validate))\n",
    "y_all = np.vstack((y_all,y_test))\n",
    "print('Combined shapes:')\n",
    "print(get_shapes([x_all,y_all]))"
   ]
  }
 ],
 "metadata": {
  "accelerator": "GPU",
  "colab": {
   "authorship_tag": "ABX9TyNB5f0rtu3+XcVarNg+LE/T",
   "collapsed_sections": [],
   "mount_file_id": "1w4xAQhEWnM_mWGkjz-f3gaJeIfrdnd5h",
   "name": "e4_end_to_end.ipynb",
   "provenance": []
  },
  "kernelspec": {
   "display_name": "Python 3",
   "language": "python",
   "name": "python3"
  },
  "language_info": {
   "codemirror_mode": {
    "name": "ipython",
    "version": 3
   },
   "file_extension": ".py",
   "mimetype": "text/x-python",
   "name": "python",
   "nbconvert_exporter": "python",
   "pygments_lexer": "ipython3",
   "version": "3.8.10"
  }
 },
 "nbformat": 4,
 "nbformat_minor": 1
}
